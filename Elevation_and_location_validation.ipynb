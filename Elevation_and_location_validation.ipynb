{
 "cells": [
  {
   "cell_type": "markdown",
   "id": "3582346c",
   "metadata": {},
   "source": [
    "This script will be used to validate the locations of the measurement stations and the validation stations. If they are located within the area of Amsterdam under review and not in the water, they are valid. Subsequently elevation data is added to the measurement stations in this script to add an additional variable for the analysis. "
   ]
  },
  {
   "cell_type": "markdown",
   "id": "82362e17",
   "metadata": {},
   "source": [
    "Downloading packages, set working directory and disable warnings. When running the script, make sure the working directory is set correctly."
   ]
  },
  {
   "cell_type": "code",
   "execution_count": 1,
   "id": "46fee2a5",
   "metadata": {},
   "outputs": [],
   "source": [
    "rm(list=ls())\n",
    "options(\"rgdal_show_exportToProj4_warnings\"=\"none\") # ignore warnings\n",
    "setwd(\"~/WUR/Periode_5/DSME/amsterdam_dtm\")"
   ]
  },
  {
   "cell_type": "code",
   "execution_count": 1,
   "id": "cd6d2398",
   "metadata": {},
   "outputs": [],
   "source": [
    "if( !(\"raster\" %in% installed.packages()[,1]) )\n",
    "  install.packages(\"raster\")\n",
    "\n",
    "if( !(\"rgdal\" %in% installed.packages()[,1]) )\n",
    "  install.packages(\"rgdal\")\n",
    "\n",
    "if( !(\"rjson\" %in% installed.packages()[,1]) )\n",
    "  install.packages(\"rjson\")\n",
    "\n",
    "if( !(\"sp\" %in% installed.packages()[,1]) )\n",
    "  install.packages(\"sp\")"
   ]
  },
  {
   "cell_type": "code",
   "execution_count": null,
   "id": "03476e9e",
   "metadata": {},
   "outputs": [
    {
     "name": "stderr",
     "output_type": "stream",
     "text": [
      "Warning message:\n",
      "\"package 'sp' was built under R version 3.6.3\"Warning message:\n",
      "\"package 'raster' was built under R version 3.6.3\""
     ]
    }
   ],
   "source": [
    "library(sp)\n",
    "library(raster)\n",
    "library(rgdal)\n",
    "library(rjson)"
   ]
  },
  {
   "cell_type": "markdown",
   "id": "5a070876",
   "metadata": {},
   "source": [
    "Loading the DSMs and creating a single DSM for the area under review, set the projections for spatial analysis.The file names refer to the tiles from PDOK, make sure you have these files before running the script."
   ]
  },
  {
   "cell_type": "code",
   "execution_count": null,
   "id": "20331016",
   "metadata": {},
   "outputs": [],
   "source": [
    "amsterdam = merge(raster(\"M_25BZ1.TIF\"),raster(\"M_25BZ2.TIF\"), raster(\"M_25DN1.TIF\"),raster('M_25DN2.TIF'),raster(\"M_25EZ1.TIF\"),raster(\"M_25EZ2.TIF\"),\n",
    "                  raster(\"M_25GN1.TIF\"), raster(\"M_25GN2.TIF\"), raster(\"M_25GZ1.TIF\"), raster(\"M_25GZ2.TIF\"), raster(\"M_25HN1.TIF\"))\n",
    "\n",
    "CRS_RDnew <- CRS(\"+init=epsg:28992\")\n",
    "CRS_WGS84 <- CRS(\"+init=epsg:4326\")"
   ]
  },
  {
   "cell_type": "markdown",
   "id": "9c79bdd4",
   "metadata": {},
   "source": [
    "Load a shapefile with an outline of Amsterdam"
   ]
  },
  {
   "cell_type": "code",
   "execution_count": null,
   "id": "6076b10d",
   "metadata": {},
   "outputs": [],
   "source": [
    "nld <- raster::getData('GADM', country=\"NLD\", level=2)\n",
    "ams <- nld[nld[[6]] == \"NLD.9.4_1\",]"
   ]
  },
  {
   "cell_type": "markdown",
   "id": "8776e314",
   "metadata": {},
   "source": [
    "Change working directory and create a dataframe with the coordinates of the measurement stations of the Netatmo dataset, prevent double location from being added."
   ]
  },
  {
   "cell_type": "code",
   "execution_count": null,
   "id": "e619943e",
   "metadata": {},
   "outputs": [],
   "source": [
    "setwd(\"~/WUR/Periode_5/DSME/export-KNMI_Amsterdam_01-05-2016_01-06-2018\")\n",
    "\n",
    "df = as.data.frame(fromJSON(file=\"0.metadata.json\"))$place.location\n",
    "\n",
    "for (i in 1:562){\n",
    "  json = fromJSON(file = paste0(sprintf(\"%01d\", i),\".metadata.json\"))\n",
    "  if(data.frame(json)$place.location[1] != df[1]){\n",
    "    if(data.frame(json)$place.location[2] != df[2]){\n",
    "      df = rbind(df,(as.data.frame(json)$place.location))\n",
    "    }}}\n",
    "remove(i)\n",
    "remove(json)"
   ]
  },
  {
   "cell_type": "markdown",
   "id": "9f7edc21",
   "metadata": {},
   "source": [
    "remove NA values from the dataframe"
   ]
  },
  {
   "cell_type": "code",
   "execution_count": null,
   "id": "69b2be66",
   "metadata": {},
   "outputs": [],
   "source": [
    "for (i in 1:nrow(df)){\n",
    "  if(is.na(df[i,1])|is.na(df[i,2])){\n",
    "    df <- df[-c(1),]\n",
    "    i = i-1\n",
    "  }\n",
    "}\n",
    "remove(i)"
   ]
  },
  {
   "cell_type": "markdown",
   "id": "33050a24",
   "metadata": {},
   "source": [
    "set index for measurement stations to keep track of which ones are invalid, set to coordinates and set correct projection"
   ]
  },
  {
   "cell_type": "code",
   "execution_count": null,
   "id": "113e10e1",
   "metadata": {},
   "outputs": [],
   "source": [
    "df = as.data.frame(df)\n",
    "df$m_station <- seq.int(nrow(df))\n",
    "coordinates(df) = c(1,2)\n",
    "crs(df) <- CRS_WGS84\n",
    "df <- spTransform(df,CRS_RDnew)"
   ]
  },
  {
   "cell_type": "markdown",
   "id": "795a3e47",
   "metadata": {},
   "source": [
    "Extract the elevation values for each measurement station and remove NA values and save data"
   ]
  },
  {
   "cell_type": "code",
   "execution_count": null,
   "id": "fb4e970e",
   "metadata": {},
   "outputs": [],
   "source": [
    "m_elev_dat <- extract(amsterdam,df, small = T,sp=T,fun=mean,buffer=5,na.rm=T)\n",
    "elev_extract <- as.data.frame(m_elev_dat)\n",
    "\n",
    "delme <- which(is.na(elev_extract$layer))\n",
    "if(length(delme) > 0){\n",
    "  elev_extract<- elev_extract[-delme,]\n",
    "}\n",
    "remove(delme)\n",
    "\n",
    "write.csv(elev_extract,\"m_elev.csv\",row.names = F)"
   ]
  },
  {
   "cell_type": "markdown",
   "id": "44756324",
   "metadata": {},
   "source": [
    "The next part will load the data from the validation dataset and extract the coordinates to check their location. Again, elevation values will be added as they are not included in the dataset"
   ]
  },
  {
   "cell_type": "code",
   "execution_count": 1,
   "id": "cf0bd695",
   "metadata": {},
   "outputs": [],
   "source": [
    "setwd(\"~/WUR/Periode_5/DSME/amsterdam_dtm/Meteo-1\")\n",
    "\n",
    "read_excel_allsheets <- function(fname, tibble = F) {\n",
    "  sheets <- readxl::excel_sheets(fname)\n",
    "  x <- lapply(sheets, function(X) readxl::read_excel(fname, sheet = X,n_max = 1,col_names = F))\n",
    "  if(!tibble) x <- lapply(x, as.data.frame)\n",
    "  names(x) <- sheets\n",
    "  x\n",
    "}"
   ]
  },
  {
   "cell_type": "markdown",
   "id": "52b8b066",
   "metadata": {},
   "source": [
    "Change the rownames and put the data in a dataframe and remove NA values"
   ]
  },
  {
   "cell_type": "code",
   "execution_count": null,
   "id": "8b9e1953",
   "metadata": {},
   "outputs": [],
   "source": [
    "first_rows <- read_excel_allsheets(\"val_dat.xlsx\")\n",
    "names(first_rows) <- c(seq(from=1,to=24))\n",
    "\n",
    "coor <- data.frame()\n",
    "for (i in 1:24){ \n",
    "  t <- unlist(first_rows[i],use.names = F)\n",
    "  coor <- rbind(coor,t[14])\n",
    "  }\n",
    "\n",
    "delme <- which(is.na(coor))\n",
    "if(length(delme) > 0){\n",
    "  coor<- coor[-delme,]\n",
    "}\n",
    "\n",
    "remove(delme)\n",
    "remove(t)\n",
    "remove(i)"
   ]
  },
  {
   "cell_type": "markdown",
   "id": "4da758a7",
   "metadata": {},
   "source": [
    "Change the coordinates that are now in a string into the seperate x and y components, transform the data into a spatial points dataframe and set the correct projection"
   ]
  },
  {
   "cell_type": "code",
   "execution_count": null,
   "id": "cc5624cd",
   "metadata": {},
   "outputs": [],
   "source": [
    "coor <- as.data.frame(coor)\n",
    "coordinaten <- matrix(nrow = nrow(coor),ncol=2)\n",
    "\n",
    "for (i in 1:nrow(coor)){\n",
    "  crdns <- unlist(strsplit(coor[i,1],\" \"))\n",
    "  coordinaten[i,1] <- as.numeric(crdns[1])\n",
    "  coordinaten[i,2] <- as.numeric(crdns[2])\n",
    "}\n",
    "remove(crdns)\n",
    "\n",
    "coordinaten <- as.data.frame(coordinaten)\n",
    "coordinates(coordinaten) = c(1,2)\n",
    "crs(coordinaten) <- CRS_RDnew"
   ]
  },
  {
   "cell_type": "markdown",
   "id": "2406ef9c",
   "metadata": {},
   "source": [
    "Extract the elevation values for the validation measurement stations, visually inspect the locations and save the file"
   ]
  },
  {
   "cell_type": "code",
   "execution_count": null,
   "id": "19c20b84",
   "metadata": {},
   "outputs": [],
   "source": [
    "val_elev <- extract(amsterdam,coordinaten,small = T,fun=mean,buffer=5,na.rm=T)\n",
    "mapview(ams) + val_elev\n",
    "write.csv(val_elev,\"val_elev.csv\")"
   ]
  },
  {
   "cell_type": "markdown",
   "id": "920175b5",
   "metadata": {},
   "source": [
    "Looking at the plot, all locations are within the research area and can thus be included in the analysis "
   ]
  },
  {
   "cell_type": "markdown",
   "id": "fcaf5594",
   "metadata": {},
   "source": [
    "To conclude, the main problem with the current script was the processing time. As the rasters have a high spatial resolution, which was needed to attempt to capture the high spatial variability, the loading and all raster operations take a long time. It was quite a challenge to figure out how to effectively extract the elevation data and validate the location of the stations, as many attempts failed due to memory running out. It would have been better to start with seperate tiles or use lower resultion DSM to find a method to extract and validate. Now, a lot of time was wasted on waiting while the method did not produce the desired results. Working with spatial data is always challenging as the projections were not entirely clear to me in the beginning. Subsequently, the locations were now selected based on the raster file which is a combination of seperate tiles. Thus it encompasses not only the area of Amsterdam, but also some area around it. Using a shapefile of the research area and use this is better to limit the area under review. I was struggeling with finding where and how to download shapefiles of the city so that is something I will do differently in the future."
   ]
  },
  {
   "cell_type": "markdown",
   "id": "533769e2",
   "metadata": {},
   "source": [
    "Relating to the choices made in the current analysis, some 20 measurement stations were ommitted from the dataset as they are located outside of Amsterdam. While this was a choice that improved processing time of the NETATMO dataset by reducing the amount of points, it possibly also ommitted valuable data. The measurement stations located outside of the city are less influenced by buildings, UHI etc. and possible provide more accurate measurements."
   ]
  },
  {
   "cell_type": "code",
   "execution_count": null,
   "id": "40eff590",
   "metadata": {},
   "outputs": [],
   "source": []
  }
 ],
 "metadata": {
  "kernelspec": {
   "display_name": "R",
   "language": "R",
   "name": "ir"
  },
  "language_info": {
   "codemirror_mode": "r",
   "file_extension": ".r",
   "mimetype": "text/x-r-source",
   "name": "R",
   "pygments_lexer": "r",
   "version": "3.6.1"
  }
 },
 "nbformat": 4,
 "nbformat_minor": 5
}
