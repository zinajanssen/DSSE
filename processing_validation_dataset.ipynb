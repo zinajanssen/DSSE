{
 "cells": [
  {
   "cell_type": "markdown",
   "id": "b1ca7c8c",
   "metadata": {},
   "source": [
    "The current script is used to import the Excel workbook which contains data from the research done by Gert-Jan Steenveld. The data will be selected based on the time period under review, namely the first of June 2017 until the 31st of May 2018. The dataset will then be stored to be used in the later validation of models produced in this project "
   ]
  },
  {
   "cell_type": "markdown",
   "id": "a66f06ef",
   "metadata": {},
   "source": [
    "Install required packages if not present, if so uncomment next cell, and load libraries"
   ]
  },
  {
   "cell_type": "code",
   "execution_count": 14,
   "id": "71fc4b3d",
   "metadata": {},
   "outputs": [],
   "source": [
    "#import sys\n",
    "#!{sys.executable} -m pip install openpyxl\n",
    "#!{sys.executable} -m pip install pandas\n",
    "#!{sys.executable} -m pip install datetime"
   ]
  },
  {
   "cell_type": "code",
   "execution_count": 24,
   "id": "14c6abbc",
   "metadata": {},
   "outputs": [],
   "source": [
    "import openpyxl\n",
    "import pandas as pd\n",
    "import datetime "
   ]
  },
  {
   "cell_type": "markdown",
   "id": "e3004c9b",
   "metadata": {},
   "source": [
    "Read the sheets of the validation dataset into a dictionary, create an empty dictionary to store the transformed data. Set the start and end time of the project for selection of relevant measurements"
   ]
  },
  {
   "cell_type": "code",
   "execution_count": 25,
   "id": "4c1d84bc",
   "metadata": {},
   "outputs": [],
   "source": [
    "all_data = pd.read_excel(\"val_dat.xlsx\",sheet_name=None)\n",
    "year_data  = {}\n",
    "start_time = datetime.datetime.strptime(\"01/06/2017 00:00\",\"%d/%m/%Y %H:%M\")\n",
    "end_time = datetime.datetime.strptime(\"31/05/2018 23:59\",\"%d/%m/%Y %H:%M\")"
   ]
  },
  {
   "cell_type": "markdown",
   "id": "d431df56",
   "metadata": {},
   "source": [
    "Create a function to remove one erronous float value that prevents the date time strings being converted into datetime"
   ]
  },
  {
   "cell_type": "code",
   "execution_count": 27,
   "id": "749e11f6",
   "metadata": {},
   "outputs": [],
   "source": [
    "def rem_float(x):\n",
    "    try:\n",
    "        float(x)\n",
    "    except ValueError:\n",
    "        return True\n",
    "    return False"
   ]
  },
  {
   "cell_type": "markdown",
   "id": "5de542fd",
   "metadata": {},
   "source": [
    "Loop over the keys of the dictionary which hold the dataframes containing the measurements for the related stations. For each dataframe, remove the possible float value in the UTC column holding strings containing measurement date and time. Then convert the column to datetime format and select the relevant time period. Store the converted dataframe in a new dictionary."
   ]
  },
  {
   "cell_type": "code",
   "execution_count": 29,
   "id": "3385173a",
   "metadata": {},
   "outputs": [
    {
     "name": "stderr",
     "output_type": "stream",
     "text": [
      "<ipython-input-29-7768dde9c7a2>:5: SettingWithCopyWarning: \n",
      "A value is trying to be set on a copy of a slice from a DataFrame.\n",
      "Try using .loc[row_indexer,col_indexer] = value instead\n",
      "\n",
      "See the caveats in the documentation: https://pandas.pydata.org/pandas-docs/stable/user_guide/indexing.html#returning-a-view-versus-a-copy\n",
      "  df[\"UTC\"] = pd.to_datetime(df[\"UTC\"],format=\" %d/%m/%Y %H:%M\")\n"
     ]
    }
   ],
   "source": [
    "for key in all_data:\n",
    "    df = all_data[key]\n",
    "    searchfloat = df[\"UTC\"].apply(rem_float)\n",
    "    df = df[searchfloat]\n",
    "    df[\"UTC\"] = pd.to_datetime(df[\"UTC\"],format=\" %d/%m/%Y %H:%M\")\n",
    "    df = df[(df[\"UTC\"] >= start_time) & (df[\"UTC\"] <= end_time)]\n",
    "    year_data[key] = df"
   ]
  },
  {
   "cell_type": "markdown",
   "id": "20b316df",
   "metadata": {},
   "source": [
    "Write the dataframes back into an excel workbook to use for validation later"
   ]
  },
  {
   "cell_type": "code",
   "execution_count": 30,
   "id": "ea5c2527",
   "metadata": {},
   "outputs": [],
   "source": [
    "with pd.ExcelWriter('validation.xlsx') as writer:  \n",
    "    for entry in year_data:\n",
    "        df1 = year_data[entry]\n",
    "        df1.to_excel(writer, sheet_name=entry)"
   ]
  },
  {
   "cell_type": "markdown",
   "id": "4182ff54",
   "metadata": {},
   "source": [
    "To conclude, the main difficulty was managing to load, use and write a XSLX workbook which has multiple sheets in pandas. Furthermore, while most of the UTC values were strings, some sheets contained a random number which prevented use of the efficient pd.to_datetime as the float did not have the correct format. Finding and removing this float value was challenging but a stark improvement from looping over all the seperate values and checking whether they were the correct format. "
   ]
  },
  {
   "cell_type": "markdown",
   "id": "103165d0",
   "metadata": {},
   "source": [
    "This script was used to produce a dataset that was meant to validate the outcomes of the models. However, as the models had such low accuracy, the produced file was never used. Apart from that, the conversion and the shrinking of the data set by selecting a fixed time interval improved processing time."
   ]
  }
 ],
 "metadata": {
  "kernelspec": {
   "display_name": "Python 3",
   "language": "python",
   "name": "python3"
  },
  "language_info": {
   "codemirror_mode": {
    "name": "ipython",
    "version": 3
   },
   "file_extension": ".py",
   "mimetype": "text/x-python",
   "name": "python",
   "nbconvert_exporter": "python",
   "pygments_lexer": "ipython3",
   "version": "3.9.4"
  }
 },
 "nbformat": 4,
 "nbformat_minor": 5
}
