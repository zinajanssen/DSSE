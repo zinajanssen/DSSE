{
 "cells": [
  {
   "cell_type": "markdown",
   "id": "9f5524f9",
   "metadata": {},
   "source": [
    "This short script normalizes the data so that it can be used in later analysis. Scaling all the variables into a min max normalisation allows the parameters to be compared."
   ]
  },
  {
   "cell_type": "markdown",
   "id": "a0bc0528",
   "metadata": {},
   "source": [
    "Load relevant libraries, if they are not present on your machine install them."
   ]
  },
  {
   "cell_type": "code",
   "execution_count": null,
   "id": "787c7752",
   "metadata": {},
   "outputs": [],
   "source": [
    "#!{sys.executable} -m pip install pandas\n",
    "#!{sys.executable} -m pip install numpy"
   ]
  },
  {
   "cell_type": "code",
   "execution_count": 1,
   "id": "ee7cf0e9",
   "metadata": {},
   "outputs": [],
   "source": [
    "import pandas as pd\n",
    "import numpy as np"
   ]
  },
  {
   "cell_type": "markdown",
   "id": "86ba6571",
   "metadata": {},
   "source": [
    "Normalising the data. This normalisation is performed on the data set that is produced by the script that merges and cleans the NETATMO data. Make sure to change the filename if that is needed"
   ]
  },
  {
   "cell_type": "code",
   "execution_count": 8,
   "id": "c04b4181",
   "metadata": {},
   "outputs": [],
   "source": [
    "df = pd.read_csv(\"PWSDF.csv\")\n",
    "\n",
    "df_min_max_scaled = df.copy()\n",
    "for column in df:\n",
    "    if type(df[column][1]) == np.float64:\n",
    "        df_min_max_scaled[column] = (df_min_max_scaled[column] - df_min_max_scaled[column].min()) / (df_min_max_scaled[column].max() - df_min_max_scaled[column].min())    \n",
    "  \n",
    "df_min_max_scaled.to_csv(\"norm_data.csv\")"
   ]
  },
  {
   "cell_type": "markdown",
   "id": "5649717e",
   "metadata": {},
   "source": [
    "The script is obviously very short and was not that challeging to write. I had expected it to be more difficult. Dhring the implementation of models we had realised we had forgotten to normalize the data and thus this was useful. However, as it turned out, the normalized data was not used because R also has a very easy function that does it automatically. The script is still present as it it useful to remember the necessity of normalization as wel as an easy way to do so."
   ]
  }
 ],
 "metadata": {
  "kernelspec": {
   "display_name": "Python 3",
   "language": "python",
   "name": "python3"
  },
  "language_info": {
   "codemirror_mode": {
    "name": "ipython",
    "version": 3
   },
   "file_extension": ".py",
   "mimetype": "text/x-python",
   "name": "python",
   "nbconvert_exporter": "python",
   "pygments_lexer": "ipython3",
   "version": "3.9.4"
  }
 },
 "nbformat": 4,
 "nbformat_minor": 5
}
